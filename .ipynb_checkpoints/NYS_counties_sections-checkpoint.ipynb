{
 "metadata": {
  "name": "",
  "signature": "sha256:0858c496f4cc1ad13fc076179b2ab2d04d75dad144da71e8e604ef8504003947"
 },
 "nbformat": 3,
 "nbformat_minor": 0,
 "worksheets": []
}
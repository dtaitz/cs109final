{
 "metadata": {
  "name": "",
  "signature": "sha256:beb4466d7b771abafec2fd672d82f846d3f9de04998a696ff5591757e1759a0f"
 },
 "nbformat": 3,
 "nbformat_minor": 0,
 "worksheets": [
  {
   "cells": [
    {
     "cell_type": "code",
     "collapsed": false,
     "input": [
      "import numpy as np\n",
      "import scipy as sp\n",
      "import pandas as pd\n",
      "import pandas.tools.plotting \n",
      "import sklearn\n",
      "import seaborn as sns\n",
      "from matplotlib import pyplot as plt\n",
      "%matplotlib inline\n",
      "from matplotlib.colors import ListedColormap\n",
      "\n",
      "import seaborn as sns\n",
      "sns.set_style(\"white\")\n",
      "\n",
      "import sklearn\n",
      "import sklearn.tree\n",
      "import sklearn.datasets\n",
      "import sklearn.preprocessing\n",
      "import sklearn.decomposition\n",
      "import sklearn.ensemble\n",
      "import sklearn.cross_validation\n",
      "\n",
      "import urllib2\n",
      "import bs4\n",
      "import itertools\n",
      "\n",
      "cmap_bold = ListedColormap(['#FF0000', '#00FF00', '#0000FF', '#000000'])\n",
      "\n",
      "import requests, zipfile, StringIO\n",
      "\n",
      "import statsmodels.api as sm"
     ],
     "language": "python",
     "metadata": {},
     "outputs": [],
     "prompt_number": 83
    },
    {
     "cell_type": "code",
     "collapsed": false,
     "input": [
      "##last two rows of three is bogus, last row of all using skip_footer\n",
      "sections_df = pd.io.excel.read_excel('Sections.xlsx')"
     ],
     "language": "python",
     "metadata": {},
     "outputs": [],
     "prompt_number": 84
    },
    {
     "cell_type": "code",
     "collapsed": false,
     "input": [
      "new_sections = []\n",
      "for index, row in sections_df.iterrows():\n",
      "    NYC = []\n",
      "    if pd.isnull(row['Section']):\n",
      "        NYC.extend((12,13,14))\n",
      "        new_sections.append(NYC)\n",
      "    else:\n",
      "        new_sections.append(row['Section'])\n",
      "sections_df['Section']=new_sections"
     ],
     "language": "python",
     "metadata": {},
     "outputs": [],
     "prompt_number": 85
    },
    {
     "cell_type": "code",
     "collapsed": false,
     "input": [
      "ooh = sections_df.loc[3,'Section']\n",
      "type(ooh)"
     ],
     "language": "python",
     "metadata": {},
     "outputs": [
      {
       "metadata": {},
       "output_type": "pyout",
       "prompt_number": 14,
       "text": [
        "list"
       ]
      }
     ],
     "prompt_number": 14
    },
    {
     "cell_type": "code",
     "collapsed": false,
     "input": [
      "sections = sections_df.set_index('County')\n",
      "sections = sections['Section']"
     ],
     "language": "python",
     "metadata": {},
     "outputs": [],
     "prompt_number": 30
    },
    {
     "cell_type": "code",
     "collapsed": false,
     "input": [
      "sections_df = sections_df[['County','Section']]"
     ],
     "language": "python",
     "metadata": {},
     "outputs": [],
     "prompt_number": 25
    },
    {
     "cell_type": "code",
     "collapsed": false,
     "input": [
      "sections_dict = sections.to_json('sections')"
     ],
     "language": "python",
     "metadata": {},
     "outputs": [],
     "prompt_number": 75
    },
    {
     "cell_type": "code",
     "collapsed": false,
     "input": [
      "##last two rows of three is bogus, last row of all using skip_footer\n",
      "sections_df = pd.io.excel.read_excel('Sections.xlsx')\n",
      "new_sections = []\n",
      "for index, row in sections_df.iterrows():\n",
      "    NYC = []\n",
      "    if pd.isnull(row['Section']):\n",
      "        #NYC.extend((12,13,14))\n",
      "        new_sections.append('NYC')\n",
      "    else:\n",
      "        new_sections.append(row['Section'])\n",
      "sections_df['Section']=new_sections"
     ],
     "language": "python",
     "metadata": {},
     "outputs": [],
     "prompt_number": 92
    },
    {
     "cell_type": "code",
     "collapsed": false,
     "input": [],
     "language": "python",
     "metadata": {},
     "outputs": []
    }
   ],
   "metadata": {}
  }
 ]
}